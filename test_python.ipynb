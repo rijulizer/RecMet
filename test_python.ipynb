{
 "cells": [
  {
   "cell_type": "code",
   "execution_count": 1,
   "metadata": {},
   "outputs": [],
   "source": [
    "# Randomly Initialise variables\n",
    "weight_dict ={\n",
    "    'prod_1':1,\n",
    "    'prod_2':2,\n",
    "    'prod_3':3,\n",
    "    'prod_4':4,\n",
    "    'prod_5':5,\n",
    "    'prod_6':6,\n",
    "    'prod_7':7,\n",
    "    'prod_8':8,\n",
    "    'prod_9':9,\n",
    "    'prod_10':10,\n",
    "    'prod_11':11,\n",
    "    'prod_12':12,\n",
    "    'prod_13':13,\n",
    "    'prod_14':14,\n",
    "    'prod_15':15,\n",
    "    'prod_16':16,\n",
    "    'prod_17':17,\n",
    "    'prod_18':18,\n",
    "}\n",
    "weights =  weight_dict\n",
    "longtail_thresh = 8\n",
    "\n",
    "recommeneded_list = [['prod_1','prod_2','prod_3','prod_4','prod_5'],\n",
    "                    ['prod_11','prod_12','prod_13','prod_14','prod_15'],\n",
    "                    ['prod_1','prod_12','prod_3','prod_7','prod_8']]\n",
    "\n",
    "test_list = [['prod_1','prod_12','prod_3'],['prod_4'],['prod_17']]"
   ]
  },
  {
   "cell_type": "code",
   "execution_count": 2,
   "metadata": {},
   "outputs": [],
   "source": [
    "from RecMet import Metrics\n",
    "met = Metrics(weights, longtail_thresh)"
   ]
  },
  {
   "cell_type": "code",
   "execution_count": 3,
   "metadata": {},
   "outputs": [
    {
     "name": "stdout",
     "output_type": "stream",
     "text": [
      "AI Calculation:\n",
      "for rec set - ['prod_1', 'prod_2', 'prod_3', 'prod_4', 'prod_5'], test set - ['prod_1', 'prod_12', 'prod_3'], AI: 0.6667\n",
      "for rec set - ['prod_11', 'prod_12', 'prod_13', 'prod_14', 'prod_15'], test set - ['prod_1', 'prod_12', 'prod_3'], AI: 0.3333\n",
      "for rec set - ['prod_1', 'prod_2', 'prod_3', 'prod_4', 'prod_5'], test set - ['prod_4'], AI: 1.0\n",
      "for rec set - ['prod_1', 'prod_2', 'prod_3', 'prod_4', 'prod_5'], test set - ['prod_17'], AI: 0.0\n"
     ]
    }
   ],
   "source": [
    "print('AI Calculation:')\n",
    "print(f'for rec set - {recommeneded_list[0]}, test set - {test_list[0]}, AI: {met.AI(recommeneded_list[0], test_list[0])}')\n",
    "print(f'for rec set - {recommeneded_list[1]}, test set - {test_list[0]}, AI: {met.AI(recommeneded_list[1], test_list[0])}')\n",
    "print(f'for rec set - {recommeneded_list[0]}, test set - {test_list[1]}, AI: {met.AI(recommeneded_list[0], test_list[1])}')\n",
    "print(f'for rec set - {recommeneded_list[0]}, test set - {test_list[2]}, AI: {met.AI(recommeneded_list[0], test_list[2])}')\n",
    "\n"
   ]
  },
  {
   "cell_type": "code",
   "execution_count": 4,
   "metadata": {},
   "outputs": [
    {
     "name": "stdout",
     "output_type": "stream",
     "text": [
      "PWAI Calculation:\n",
      "for rec set - ['prod_1', 'prod_2', 'prod_3', 'prod_4', 'prod_5'], test set - ['prod_1', 'prod_12', 'prod_3'], PWAI: 0.25\n",
      "for rec set - ['prod_11', 'prod_12', 'prod_13', 'prod_14', 'prod_15'], test set - ['prod_1', 'prod_12', 'prod_3'], PWAI: 0.75\n",
      "for rec set - ['prod_1', 'prod_2', 'prod_3', 'prod_4', 'prod_5'], test set - ['prod_4'], PWAI: 1.0\n",
      "for rec set - ['prod_1', 'prod_2', 'prod_3', 'prod_4', 'prod_5'], test set - ['prod_17'], PWAI: 0.0\n"
     ]
    }
   ],
   "source": [
    "print('PWAI Calculation:')\n",
    "print(f'for rec set - {recommeneded_list[0]}, test set - {test_list[0]}, PWAI: {met.PWAI(recommeneded_list[0], test_list[0])}')\n",
    "print(f'for rec set - {recommeneded_list[1]}, test set - {test_list[0]}, PWAI: {met.PWAI(recommeneded_list[1], test_list[0])}')\n",
    "print(f'for rec set - {recommeneded_list[0]}, test set - {test_list[1]}, PWAI: {met.PWAI(recommeneded_list[0], test_list[1])}')\n",
    "print(f'for rec set - {recommeneded_list[0]}, test set - {test_list[2]}, PWAI: {met.PWAI(recommeneded_list[0], test_list[2])}')\n"
   ]
  },
  {
   "cell_type": "code",
   "execution_count": 5,
   "metadata": {},
   "outputs": [
    {
     "name": "stdout",
     "output_type": "stream",
     "text": [
      "ARP Calculation:\n",
      "for rec set - ['prod_1', 'prod_2', 'prod_3', 'prod_4', 'prod_5'], ARP: 3.0\n",
      "for rec set - ['prod_11', 'prod_12', 'prod_13', 'prod_14', 'prod_15'], ARP: 13.0\n",
      "for rec set - ['prod_1', 'prod_12', 'prod_3', 'prod_7', 'prod_8'], ARP: 6.2\n"
     ]
    }
   ],
   "source": [
    "# Average Rank of recommended products\n",
    "print('ARP Calculation:')\n",
    "print(f'for rec set - {recommeneded_list[0]}, ARP: {met.ARP(recommeneded_list[0])}')\n",
    "print(f'for rec set - {recommeneded_list[1]}, ARP: {met.ARP(recommeneded_list[1])}')\n",
    "print(f'for rec set - {recommeneded_list[2]}, ARP: {met.ARP(recommeneded_list[2])}')\n",
    "\n"
   ]
  },
  {
   "cell_type": "code",
   "execution_count": 6,
   "metadata": {},
   "outputs": [
    {
     "name": "stdout",
     "output_type": "stream",
     "text": [
      "APLT Calculation:\n",
      "for rec set - ['prod_1', 'prod_2', 'prod_3', 'prod_4', 'prod_5'], APLT: 0.0\n",
      "for rec set - ['prod_11', 'prod_12', 'prod_13', 'prod_14', 'prod_15'], APLT: 1.0\n",
      "for rec set - ['prod_1', 'prod_12', 'prod_3', 'prod_7', 'prod_8'], APLT: 0.2\n"
     ]
    }
   ],
   "source": [
    "# Average percentage of recommended products\n",
    "print('APLT Calculation:')\n",
    "print(f'for rec set - {recommeneded_list[0]}, APLT: {met.APLT(recommeneded_list[0])}')\n",
    "print(f'for rec set - {recommeneded_list[1]}, APLT: {met.APLT(recommeneded_list[1])}')\n",
    "print(f'for rec set - {recommeneded_list[2]}, APLT: {met.APLT(recommeneded_list[2])}')\n",
    "\n"
   ]
  },
  {
   "cell_type": "code",
   "execution_count": 7,
   "metadata": {},
   "outputs": [
    {
     "name": "stdout",
     "output_type": "stream",
     "text": [
      "ACLT Calculation:\n",
      "for rec set - ['prod_1', 'prod_2', 'prod_3', 'prod_4', 'prod_5'], ACLT: 0.0\n",
      "for rec set - ['prod_11', 'prod_12', 'prod_13', 'prod_14', 'prod_15'], ACLT: 5.0\n",
      "for rec set - ['prod_1', 'prod_12', 'prod_3', 'prod_7', 'prod_8'], ACLT: 1.0\n"
     ]
    }
   ],
   "source": [
    "# Average Count of long tail items\n",
    "print('ACLT Calculation:')\n",
    "print(f'for rec set - {recommeneded_list[0]}, ACLT: {met.ACLT(recommeneded_list[0])}')\n",
    "print(f'for rec set - {recommeneded_list[1]}, ACLT: {met.ACLT(recommeneded_list[1])}')\n",
    "print(f'for rec set - {recommeneded_list[2]}, ACLT: {met.ACLT(recommeneded_list[2])}')\n"
   ]
  },
  {
   "cell_type": "code",
   "execution_count": null,
   "metadata": {},
   "outputs": [],
   "source": []
  }
 ],
 "metadata": {
  "interpreter": {
   "hash": "6214205b3f0feb10f65f2f0dd29cdc000d295e8c7aa0ea6d59cd488fde6b1f14"
  },
  "kernelspec": {
   "display_name": "Python 3.8.8 ('base')",
   "language": "python",
   "name": "python3"
  },
  "language_info": {
   "codemirror_mode": {
    "name": "ipython",
    "version": 3
   },
   "file_extension": ".py",
   "mimetype": "text/x-python",
   "name": "python",
   "nbconvert_exporter": "python",
   "pygments_lexer": "ipython3",
   "version": "3.8.12"
  },
  "orig_nbformat": 4
 },
 "nbformat": 4,
 "nbformat_minor": 2
}
